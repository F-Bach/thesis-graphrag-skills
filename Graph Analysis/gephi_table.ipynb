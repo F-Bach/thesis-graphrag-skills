{
 "cells": [
  {
   "cell_type": "code",
   "execution_count": null,
   "id": "c4c2fe3f",
   "metadata": {},
   "outputs": [],
   "source": [
    "import json\n",
    "import pandas as pd\n",
    "import numpy as np\n",
    "import sys\n",
    "\n",
    "def check_keys_in_csv(json_file, csv_file):\n",
    "    \"\"\"\n",
    "    Reads a CSV, creates a DataFrame, and checks if all keys from a JSON \n",
    "    file are present in the 'label' column.\n",
    "\n",
    "    Args:\n",
    "        json_file (str): The path to the JSON file.\n",
    "        csv_file (str): The path to the CSV file.\n",
    "    \"\"\"\n",
    "    try:\n",
    "        # Load the JSON file to get the keys\n",
    "        with open(json_file, 'r') as f:\n",
    "            mapping_data = json.load(f)\n",
    "        mapping_keys = set(mapping_data.keys())\n",
    "\n",
    "        mapping_keys = {key.upper() for key in mapping_data.keys()}\n",
    "\n",
    "        # Load the CSV file into a pandas DataFrame\n",
    "        df = pd.read_csv(csv_file, sep=';')\n",
    "\n",
    "        # Check if the 'label' column exists\n",
    "        if 'Label' not in df.columns:\n",
    "            print(f\"Error: The file '{csv_file}' does not have a 'Label' column.\", file=sys.stderr)\n",
    "            return\n",
    "\n",
    "        # Get the unique values from the 'label' column\n",
    "        graph_labels = set(df['Label'].astype(str).unique())\n",
    "\n",
    "        # Find which keys from the JSON are not in the CSV's 'label' column\n",
    "        missing_keys = mapping_keys - graph_labels\n",
    "\n",
    "        # Report the findings\n",
    "        if not missing_keys:\n",
    "            print(\"Success! All keys from 'mapping.json' are present in the 'Label' column of 'graph.csv'.\")\n",
    "        else:\n",
    "            print(\"The following keys from 'mapping.json' are missing from 'graph.csv':\")\n",
    "            for key in sorted(list(missing_keys)):\n",
    "                print(f\"- {key}\")\n",
    "\n",
    "        return df\n",
    "\n",
    "    except FileNotFoundError as e:\n",
    "        print(f\"Error: The file '{e.filename}' was not found. Please check the file path.\", file=sys.stderr)\n",
    "        return None\n",
    "    except json.JSONDecodeError:\n",
    "        print(f\"Error: Could not decode JSON from the file '{json_file}'. Please check its format.\", file=sys.stderr)\n",
    "        return None \n",
    "    except Exception as e:\n",
    "        print(f\"An unexpected error occurred: {e}\", file=sys.stderr)\n",
    "        return None "
   ]
  },
  {
   "cell_type": "code",
   "execution_count": 55,
   "id": "ab6f0870",
   "metadata": {},
   "outputs": [
    {
     "name": "stdout",
     "output_type": "stream",
     "text": [
      "Success! All keys from 'mapping.json' are present in the 'Label' column of 'graph.csv'.\n"
     ]
    }
   ],
   "source": [
    "df=check_keys_in_csv('deanonymized\\mapping.json','graph.csv')"
   ]
  },
  {
   "cell_type": "code",
   "execution_count": 56,
   "id": "79a34bd1",
   "metadata": {},
   "outputs": [
    {
     "data": {
      "text/plain": [
       "Series([], Name: count, dtype: int64)"
      ]
     },
     "execution_count": 56,
     "metadata": {},
     "output_type": "execute_result"
    }
   ],
   "source": [
    "all_counts = df['Label'].value_counts()\n",
    "\n",
    "# Then, filter this Series to keep only the counts greater than 1\n",
    "repeated_values = all_counts[all_counts > 1]\n",
    "repeated_values"
   ]
  },
  {
   "cell_type": "markdown",
   "id": "88649588",
   "metadata": {},
   "source": [
    "There are no repeated nodes!"
   ]
  },
  {
   "cell_type": "code",
   "execution_count": 57,
   "id": "9d800faf",
   "metadata": {},
   "outputs": [
    {
     "data": {
      "text/plain": [
       "Index(['Id', 'Label', 'Interval', 'Degree', 'Weighted degree', 'Eccentricity',\n",
       "       'Closeness Centrality', 'Harmonic Closeness Centrality',\n",
       "       'Betweenness Centrality', 'PageRank', 'Component ID',\n",
       "       'Modularity Class', 'Clustering Coefficient', 'Number of triangles',\n",
       "       'Eigenvector Centrality'],\n",
       "      dtype='object')"
      ]
     },
     "execution_count": 57,
     "metadata": {},
     "output_type": "execute_result"
    }
   ],
   "source": [
    "df.columns"
   ]
  },
  {
   "cell_type": "code",
   "execution_count": 58,
   "id": "4bfb036a",
   "metadata": {},
   "outputs": [
    {
     "name": "stdout",
     "output_type": "stream",
     "text": [
      "<class 'pandas.core.frame.DataFrame'>\n",
      "RangeIndex: 446 entries, 0 to 445\n",
      "Data columns (total 15 columns):\n",
      " #   Column                         Non-Null Count  Dtype  \n",
      "---  ------                         --------------  -----  \n",
      " 0   Id                             446 non-null    object \n",
      " 1   Label                          446 non-null    object \n",
      " 2   Interval                       0 non-null      float64\n",
      " 3   Degree                         446 non-null    int64  \n",
      " 4   Weighted degree                446 non-null    float64\n",
      " 5   Eccentricity                   446 non-null    float64\n",
      " 6   Closeness Centrality           446 non-null    float64\n",
      " 7   Harmonic Closeness Centrality  446 non-null    float64\n",
      " 8   Betweenness Centrality         446 non-null    object \n",
      " 9   PageRank                       446 non-null    object \n",
      " 10  Component ID                   446 non-null    int64  \n",
      " 11  Modularity Class               446 non-null    int64  \n",
      " 12  Clustering Coefficient         446 non-null    float64\n",
      " 13  Number of triangles            446 non-null    int64  \n",
      " 14  Eigenvector Centrality         446 non-null    float64\n",
      "dtypes: float64(7), int64(4), object(4)\n",
      "memory usage: 52.4+ KB\n"
     ]
    }
   ],
   "source": [
    "df.info()"
   ]
  },
  {
   "cell_type": "code",
   "execution_count": null,
   "id": "d0d4eef3",
   "metadata": {},
   "outputs": [
    {
     "name": "stdout",
     "output_type": "stream",
     "text": [
      "--- Dropped the empty 'Interval' column ---\n",
      "\n",
      "--- Column data types BEFORE final conversion: ---\n",
      "<class 'pandas.core.frame.DataFrame'>\n",
      "RangeIndex: 446 entries, 0 to 445\n",
      "Data columns (total 14 columns):\n",
      " #   Column                         Non-Null Count  Dtype  \n",
      "---  ------                         --------------  -----  \n",
      " 0   Id                             446 non-null    object \n",
      " 1   Label                          446 non-null    object \n",
      " 2   Degree                         446 non-null    int64  \n",
      " 3   Weighted degree                446 non-null    float64\n",
      " 4   Eccentricity                   446 non-null    float64\n",
      " 5   Closeness Centrality           446 non-null    float64\n",
      " 6   Harmonic Closeness Centrality  446 non-null    float64\n",
      " 7   Betweenness Centrality         446 non-null    object \n",
      " 8   PageRank                       446 non-null    object \n",
      " 9   Component ID                   446 non-null    int64  \n",
      " 10  Modularity Class               446 non-null    int64  \n",
      " 11  Clustering Coefficient         446 non-null    float64\n",
      " 12  Number of triangles            446 non-null    int64  \n",
      " 13  Eigenvector Centrality         446 non-null    float64\n",
      "dtypes: float64(6), int64(4), object(4)\n",
      "memory usage: 48.9+ KB\n",
      "None\n",
      "\n",
      "--- Ensuring numeric conversion for columns: ---\n",
      "['Degree', 'Weighted degree', 'Eccentricity', 'Closeness Centrality', 'Harmonic Closeness Centrality', 'Betweenness Centrality', 'PageRank', 'Component ID', 'Modularity Class', 'Clustering Coefficient', 'Number of triangles', 'Eigenvector Centrality']\n",
      "\n",
      "--- Column data types AFTER all cleaning: ---\n",
      "<class 'pandas.core.frame.DataFrame'>\n",
      "RangeIndex: 446 entries, 0 to 445\n",
      "Data columns (total 14 columns):\n",
      " #   Column                         Non-Null Count  Dtype  \n",
      "---  ------                         --------------  -----  \n",
      " 0   Id                             446 non-null    object \n",
      " 1   Label                          446 non-null    object \n",
      " 2   Degree                         446 non-null    int64  \n",
      " 3   Weighted degree                446 non-null    float64\n",
      " 4   Eccentricity                   446 non-null    float64\n",
      " 5   Closeness Centrality           446 non-null    float64\n",
      " 6   Harmonic Closeness Centrality  446 non-null    float64\n",
      " 7   Betweenness Centrality         332 non-null    float64\n",
      " 8   PageRank                       200 non-null    float64\n",
      " 9   Component ID                   446 non-null    int64  \n",
      " 10  Modularity Class               446 non-null    int64  \n",
      " 11  Clustering Coefficient         446 non-null    float64\n",
      " 12  Number of triangles            446 non-null    int64  \n",
      " 13  Eigenvector Centrality         446 non-null    float64\n",
      "dtypes: float64(8), int64(4), object(2)\n",
      "memory usage: 48.9+ KB\n",
      "None\n",
      "\n",
      "--- First 5 rows of the cleaned DataFrame: ---\n",
      "                  Id              Label  Degree  Weighted degree  \\\n",
      "0    ACTIVE LEARNING    ACTIVE LEARNING       6             46.0   \n",
      "1               ADAM               ADAM      13            102.0   \n",
      "2  ADOBE ILLUSTRATOR  ADOBE ILLUSTRATOR       1              8.0   \n",
      "3    ADOBE PHOTOSHOP    ADOBE PHOTOSHOP       1              1.0   \n",
      "4             ADRIAN             ADRIAN      23            192.0   \n",
      "\n",
      "   Eccentricity  Closeness Centrality  Harmonic Closeness Centrality  \\\n",
      "0           4.0              0.307746                       0.344382   \n",
      "1           3.0              0.354299                       0.372659   \n",
      "2           4.0              0.263002                       0.270599   \n",
      "3           4.0              0.263002                       0.270599   \n",
      "4           3.0              0.360032                       0.387640   \n",
      "\n",
      "   Betweenness Centrality  PageRank  Component ID  Modularity Class  \\\n",
      "0                0.001437  0.001925             0                 9   \n",
      "1                0.012846  0.004415             0                 2   \n",
      "2                0.000000       NaN             0                 5   \n",
      "3                0.000000       NaN             0                 5   \n",
      "4                0.012642  0.006462             0                 2   \n",
      "\n",
      "   Clustering Coefficient  Number of triangles  Eigenvector Centrality  \n",
      "0                     0.0                    0                0.141600  \n",
      "1                     0.0                    0                0.220679  \n",
      "2                     0.0                    0                0.007186  \n",
      "3                     0.0                    0                0.007186  \n",
      "4                     0.0                    0                0.385932  \n"
     ]
    }
   ],
   "source": [
    "if 'Interval' in df.columns:\n",
    "    df.drop(columns=['Interval'], inplace=True)\n",
    "    print(\"--- Dropped the empty 'Interval' column ---\")\n",
    "\n",
    "unnamed_cols = [col for col in df.columns if 'Unnamed' in col]\n",
    "if unnamed_cols:\n",
    "    df.drop(columns=unnamed_cols, inplace=True)\n",
    "    print(f\"--- Dropped unnamed columns: {unnamed_cols} ---\")\n",
    "\n",
    "print(\"\\n--- Column data types BEFORE final conversion: ---\")\n",
    "print(df.info())\n",
    "\n",
    "columns_to_convert = df.columns[2:] \n",
    "\n",
    "print(f\"\\n--- Ensuring numeric conversion for columns: ---\\n{list(columns_to_convert)}\")\n",
    "\n",
    "for col in columns_to_convert:\n",
    "    df[col] = pd.to_numeric(df[col], errors='coerce')\n",
    "\n",
    "\n",
    "print(\"\\n--- Column data types AFTER all cleaning: ---\")\n",
    "print(df.info())\n",
    "\n",
    "print(\"\\n--- First 5 rows of the cleaned DataFrame: ---\")\n",
    "print(df.head())"
   ]
  },
  {
   "cell_type": "code",
   "execution_count": 60,
   "id": "ded4ffe9",
   "metadata": {},
   "outputs": [
    {
     "data": {
      "text/plain": [
       "Index(['Id', 'Label', 'Degree', 'Weighted degree', 'Eccentricity',\n",
       "       'Closeness Centrality', 'Harmonic Closeness Centrality',\n",
       "       'Betweenness Centrality', 'PageRank', 'Component ID',\n",
       "       'Modularity Class', 'Clustering Coefficient', 'Number of triangles',\n",
       "       'Eigenvector Centrality'],\n",
       "      dtype='object')"
      ]
     },
     "execution_count": 60,
     "metadata": {},
     "output_type": "execute_result"
    }
   ],
   "source": [
    "df.columns"
   ]
  },
  {
   "cell_type": "code",
   "execution_count": 71,
   "id": "0d77fb5e",
   "metadata": {},
   "outputs": [],
   "source": [
    "with open('deanonymized\\mapping.json', 'r') as f:\n",
    "    mapping_data = json.load(f)\n",
    "mapping_keys = set(mapping_data.keys())\n",
    "\n",
    "mapping_keys = {key.upper() for key in mapping_data.keys()}\n",
    "\n",
    "filtered_df = df[~df['Id'].isin(mapping_keys)].copy()"
   ]
  },
  {
   "cell_type": "code",
   "execution_count": 72,
   "id": "235e5fa5",
   "metadata": {},
   "outputs": [
    {
     "name": "stdout",
     "output_type": "stream",
     "text": [
      "--- Top 10 by Degree ---\n",
      "               Id  Degree\n",
      "          ENGLISH      54\n",
      "          SPANISH      52\n",
      "           PYTHON      40\n",
      "            AZURE      28\n",
      "       DATABRICKS      24\n",
      "           DOCKER      23\n",
      "JUPYTER NOTEBOOKS      23\n",
      "     APACHE SPARK      19\n",
      "       JAVASCRIPT      18\n",
      "          MONGODB      18\n",
      "\n",
      "========================================\n",
      "\n",
      "--- Top 10 by Betweenness Centrality ---\n",
      "               Id  Betweenness Centrality\n",
      "          ENGLISH                0.203749\n",
      "          SPANISH                0.192835\n",
      "           PYTHON                0.073100\n",
      "            AZURE                0.036455\n",
      "       DATABRICKS                0.025383\n",
      "           DOCKER                0.023831\n",
      "JUPYTER NOTEBOOKS                0.016928\n",
      "     APACHE SPARK                0.015645\n",
      "          MONGODB                0.012772\n",
      "       JAVASCRIPT                0.012617\n",
      "\n",
      "========================================\n",
      "\n",
      "--- Top 10 by Closeness Centrality ---\n",
      "               Id  Closeness Centrality\n",
      "          ENGLISH              0.532297\n",
      "          SPANISH              0.523529\n",
      "           PYTHON              0.433723\n",
      "            AZURE              0.393110\n",
      "           DOCKER              0.382960\n",
      "       DATABRICKS              0.382302\n",
      "JUPYTER NOTEBOOKS              0.368988\n",
      "          MONGODB              0.361789\n",
      "     APACHE SPARK              0.356571\n",
      "             LLMS              0.349294\n",
      "\n",
      "========================================\n",
      "\n",
      "--- Top 10 by Eigenvector Centrality ---\n",
      "               Id  Eigenvector Centrality\n",
      "          ENGLISH                1.000000\n",
      "          SPANISH                0.972540\n",
      "           PYTHON                0.792941\n",
      "JUPYTER NOTEBOOKS                0.594799\n",
      "            AZURE                0.594026\n",
      "           DOCKER                0.575874\n",
      "       DATABRICKS                0.563163\n",
      "     APACHE SPARK                0.471265\n",
      "          MONGODB                0.460925\n",
      "             LLMS                0.434015\n",
      "\n",
      "========================================\n",
      "\n",
      "--- Top 10 by PageRank ---\n",
      "               Id  PageRank\n",
      "          ENGLISH  0.016334\n",
      "          SPANISH  0.015781\n",
      "           PYTHON  0.011486\n",
      "            AZURE  0.008106\n",
      "       DATABRICKS  0.006741\n",
      "           DOCKER  0.006402\n",
      "JUPYTER NOTEBOOKS  0.006213\n",
      "       JAVASCRIPT  0.005427\n",
      "     APACHE SPARK  0.005418\n",
      "          MONGODB  0.005025\n",
      "\n",
      "========================================\n",
      "\n"
     ]
    }
   ],
   "source": [
    "id_column = 'Id' \n",
    "metrics_to_check = ['Degree', 'Betweenness Centrality', 'Closeness Centrality', 'Eigenvector Centrality', 'PageRank']\n",
    "\n",
    "# Loop through each metric\n",
    "for metric in metrics_to_check:\n",
    "    # Check if the metric column actually exists in the DataFrame to avoid errors\n",
    "    if metric in filtered_df.columns:\n",
    "        # Use nlargest() to efficiently find the top 10 rows for the current metric\n",
    "        top_10_df = filtered_df.nlargest(10, metric)\n",
    "        \n",
    "        # Select only the ID column and the metric column for the output\n",
    "        result_df = top_10_df[[id_column, metric]]\n",
    "        \n",
    "        # Print the results in a clean format\n",
    "        print(f\"--- Top 10 by {metric} ---\")\n",
    "        print(result_df.to_string(index=False)) # .to_string() gives cleaner output\n",
    "        print(\"\\n\" + \"=\"*40 + \"\\n\")\n",
    "    else:\n",
    "        print(f\"--- WARNING: Column '{metric}' not found in DataFrame. Skipping. ---\\n\")"
   ]
  },
  {
   "cell_type": "markdown",
   "id": "4783e424",
   "metadata": {},
   "source": [
    "Smallest:"
   ]
  },
  {
   "cell_type": "code",
   "execution_count": 84,
   "id": "eb8994ed",
   "metadata": {},
   "outputs": [
    {
     "name": "stdout",
     "output_type": "stream",
     "text": [
      "--- Top 10 by Degree ---\n",
      "                      Id  Degree\n",
      "       ADOBE ILLUSTRATOR       1\n",
      "         ADOBE PHOTOSHOP       1\n",
      "     AGILE METHODOLOGIES       1\n",
      "AI HARDWARE OPTIMIZATION       1\n",
      "               AI SAFETY       1\n",
      "              AMAZON EKS       1\n",
      "      ANALYST PROGRAMMER       1\n",
      "                 ANSIBLE       1\n",
      "             APACHE AVRO       1\n",
      "              APACHE PIG       1\n",
      "\n",
      "========================================\n",
      "\n",
      "--- Top 10 by Betweenness Centrality ---\n",
      "                      Id  Betweenness Centrality\n",
      "       ADOBE ILLUSTRATOR                     0.0\n",
      "         ADOBE PHOTOSHOP                     0.0\n",
      "     AGILE METHODOLOGIES                     0.0\n",
      "AI HARDWARE OPTIMIZATION                     0.0\n",
      "               AI SAFETY                     0.0\n",
      "              AMAZON EKS                     0.0\n",
      "      ANALYST PROGRAMMER                     0.0\n",
      "                 ANSIBLE                     0.0\n",
      "             APACHE AVRO                     0.0\n",
      "              APACHE PIG                     0.0\n",
      "\n",
      "========================================\n",
      "\n",
      "--- Top 10 by Closeness Centrality ---\n",
      "                               Id  Closeness Centrality\n",
      "MASTER OF BIG DATA & DATA SCIENCE              0.259627\n",
      "                   CLOUDFORMATION              0.260539\n",
      "                          MANAGER              0.260539\n",
      "         SENIOR ANDROID DEVELOPER              0.260539\n",
      "             SENIOR NET DEVELOPER              0.260539\n",
      "                          ASP.NET              0.260844\n",
      "                        DEVELOPER              0.260844\n",
      "                  REACT-HOOK-FORM              0.260844\n",
      "                     REACT-ROUTER              0.260844\n",
      "                             VITE              0.260844\n",
      "\n",
      "========================================\n",
      "\n",
      "--- Top 10 by Eigenvector Centrality ---\n",
      "                                             Id  Eigenvector Centrality\n",
      "              MASTER OF BIG DATA & DATA SCIENCE                0.006279\n",
      "                                      DEVELOPER                0.006321\n",
      "                                REACT-HOOK-FORM                0.006321\n",
      "                                   REACT-ROUTER                0.006321\n",
      "                                           VITE                0.006321\n",
      "                              ADOBE ILLUSTRATOR                0.007186\n",
      "                                ADOBE PHOTOSHOP                0.007186\n",
      "                            AGILE METHODOLOGIES                0.007186\n",
      "BACHELOR OF SOCIAL COMMUNICATION AND JOURNALISM                0.007186\n",
      "                                          FIGMA                0.007186\n",
      "\n",
      "========================================\n",
      "\n",
      "--- Top 10 by PageRank ---\n",
      "                               Id  PageRank\n",
      "                      APACHE NIFI  0.001006\n",
      "                           PANDAS  0.001048\n",
      "                SOFTWARE ENGINEER  0.001077\n",
      "                        DATA MESH  0.001078\n",
      "                   FEATURE STORES  0.001084\n",
      "BACHELOR OF AEROSPACE ENGINEERING  0.001086\n",
      "            SENIOR DATA SCIENTIST  0.001087\n",
      "                     DATA ANALYST  0.001094\n",
      "                    AI GOVERNANCE  0.001096\n",
      "                ANOMALY DETECTION  0.001096\n",
      "\n",
      "========================================\n",
      "\n"
     ]
    }
   ],
   "source": [
    "id_column = 'Id' \n",
    "metrics_to_check = ['Degree', 'Betweenness Centrality', 'Closeness Centrality', 'Eigenvector Centrality', 'PageRank']\n",
    "\n",
    "# Loop through each metric\n",
    "for metric in metrics_to_check:\n",
    "    # Check if the metric column actually exists in the DataFrame to avoid errors\n",
    "    if metric in filtered_df.columns:\n",
    "        # Use nlargest() to efficiently find the top 10 rows for the current metric\n",
    "        top_10_df = filtered_df.nsmallest(10, metric)\n",
    "        \n",
    "        # Select only the ID column and the metric column for the output\n",
    "        result_df = top_10_df[[id_column, metric]]\n",
    "        \n",
    "        # Print the results in a clean format\n",
    "        print(f\"--- Top 10 by {metric} ---\")\n",
    "        print(result_df.to_string(index=False)) # .to_string() gives cleaner output\n",
    "        print(\"\\n\" + \"=\"*40 + \"\\n\")\n",
    "    else:\n",
    "        print(f\"--- WARNING: Column '{metric}' not found in DataFrame. Skipping. ---\\n\")"
   ]
  },
  {
   "cell_type": "markdown",
   "id": "f9dd0190",
   "metadata": {},
   "source": [
    "NOT RELEVANT"
   ]
  },
  {
   "cell_type": "code",
   "execution_count": 73,
   "id": "36d4e873",
   "metadata": {},
   "outputs": [
    {
     "name": "stdout",
     "output_type": "stream",
     "text": [
      "--- Nodes per Modularity Cluster ---\n",
      "\n",
      "Cluster 0:\n",
      "APACHE NIFI, AZURE KUBERNETES SERVICE, BACHELOR OF TELEMATICS ENGINEERING, DEVOPS ENGINEER, DOCKER, FLASK, HASHICORP NOMAD, KUBERNETES, MARKETING MANAGER, OH MY ZSH, OPENCV, PROJECT MANAGER, PULUMI, PYGAME, PYJWT, PYTEST, REQUESTS, SCRAPY, SHELL, VAGRANT, VAULT\n",
      "\n",
      "Cluster 1:\n",
      "ASP.NET, AZURE, AZURE LOGIC APPS, BACHELOR OF INDUSTRIAL ELECTRONIC AND AUTOMATIC ENGINEERING, BACHELOR OF INDUSTRIAL ELECTRONIC ENGINEERING, BACHELOR OF INDUSTRIAL TECHNOLOGIES ENGINEERING, BACHELOR OF MECHATRONICS ENGINEERING, BACHELOR OF SOFTWARE ENGINEERING, BASH, BIG DATA, BIG DATA ENGINEER, BIG DATA MASTER TEACHER, BUSINESS INTELLIGENCE, BUSINESS INTELLIGENCE CONSULTANT, BUSINESS INTELLIGENCE DEVELOPER, C#, C++, CLOUDFORMATION, COBOL, CONSULTANT, DATA ENGINEERING, DATA SCIENTIST JUNIOR, ENGLISH, FUNCTIONAL ANALYST, GALICIAN, GERMAN, GITHUB, GRAFANA, HEROKU, INTERN HYDROGEN TECHNOLOGIES ENGINEER, INTERN TEST ENGINEER, JAVA, JAVASCRIPT, MANAGER, MASTER OF AI AND DATA SCIENCE, MASTER OF BIG DATA & DATA SCIENCE, MASTER OF BIG DATA AND BUSINESS ANALYTICS, MASTER OF DATA SCIENCE, MASTER OF DATA SCIENCE AND AI, MASTER OF INFORMATION AND COMMUNICATION SYSTEMS MANAGEMENT, MASTER OF LOGISTICS AND INTERNATIONAL TRADE, MICROSOFT AZURE, MICROSOFT POWER BI, MICROSOFT SQL, ORACLE SQL, PANDAS, PARTNER, PHOTOSHOP, PHP, POLARS, PORTUGUESE, POSTGRESQL, PYSPARK, PYTHON, SAFE 5, SENIOR ANDROID DEVELOPER, SENIOR BIG DATA DEVELOPER, SENIOR CONSULTANT, SENIOR NET DEVELOPER, SERVICE MANAGER, SOFTWARE DEVELOPER, SOFTWARE ENGINEER, SOLUTIONS ARCHITECT, SPANISH, SQL, SQL OPTIMIZATION, SUPPLY CHAIN MANAGEMENT, UNITY, VISUAL BASIC, VUEJS, WEB DEVELOPER, XML\n",
      "\n",
      "Cluster 2:\n",
      "AI AGENTS, AI MODEL MONITORING, AI SAFETY, AI SECURITY, APACHE KAFKA, API DEVELOPMENT, AWS DEVOPS ENGINEER, AZURE AI, AZURE FUNCTIONS, BACHELOR OF COMPUTER ENGINEERING, BACKEND AND DEVOPS ENGINEER, BACKEND DEVELOPMENT, CHATBOT DEVELOPER, CLOUDSTACK, CORE ML, DATABASES, DATA SCIENTIST, DEVOPS, DEVSECOPS, FULL STACK DEVELOPMENT, FULL-STACK DEVELOPMENT, FULL STACK ENGINEER, GAN, GCP, GEN AI, GIT, GITHUB ACTIONS, GO, GOOGLE CLOUD FUNCTIONS, GOOGLE CLOUD PLATFORM, GOOGLE CLOUD RUN, GRAPH NEURAL NETWORKS, INFRASTRUCTURE AS CODE, KAFKA, LANGCHAIN, LLMS, MACHINE LEARNING ENGINEER, MASTER OF BUSINESS ANALYTICS AND BIG DATA, MASTER OF DATA SCIENCE AND ENGINEERING, MASTER OF TELECOMMUNICATIONS ENGINEERING, NLP, PROMPT ENGINEERING, REST APIS, SECURITY, TELECOMMUNICATIONS ENGINEER, TERRAFORM, TYPESCRIPT\n",
      "\n",
      "Cluster 3:\n",
      "AI GOVERNANCE, APACHE FLINK, BACHELOR OF ELECTRONIC ENGINEERING, BACHELOR OF MATHEMATICS AND COMPUTER SCIENCE, BACHELOR OF TELECOMMUNICATION ENGINEERING, BAYESIAN NETWORKS, CAUSAL INFERENCE, DATA SCIENTIST LEAD, DOCTORATE IN BIOMEDICAL SIGNAL PROCESSING, JAVA CONSULTANT, MASTER OF BIG DATA, MASTER OF BIG DATA AND DATA SCIENCE, MASTER OF BUSINESS ADMINISTRATION, MATLAB, MODEL CALIBRATION, MODEL INTERPRETABILITY, ONNX, OPERATION RESEARCH, PROGRAMMER, PYCARET, SAP CONSULTANT\n",
      "\n",
      "Cluster 4:\n",
      "BACHELOR OF COMPUTER SCIENCE, DEVELOPER, EXPRESS, FRONTEND SOFTWARE ENGINEER, FULL STACK DEVELOPER, GRAPHQL, JEST, LODASH, MATERIAL-UI, NEXT.JS, NODE.JS, REACT, REACT HOOK FORM, REACT-HOOK-FORM, REACT-ROUTER, REDUX, VITE, ZUSTAND\n",
      "\n",
      "Cluster 5:\n",
      "ADOBE ILLUSTRATOR, ADOBE PHOTOSHOP, AGILE METHODOLOGIES, AIRFLOW, ANALYST PROGRAMMER, APACHE AVRO, APACHE HIVE, APACHE PARQUET, APACHE PIG, BACHELOR OF SOCIAL COMMUNICATION AND JOURNALISM, FEATURE STORES, FIGMA, FRENCH, KOTLIN, MAPREDUCE, MASTER OF CORPORATE COMMUNICATION, MIRO, MURAL, POWERBI, PRESTO, PROTOTYPING, USER RESEARCH, UX DESIGN, UX DESIGNER, WEB COMMUNICATION MANAGER\n",
      "\n",
      "Cluster 6:\n",
      "AWS API GATEWAY, AWS EC2, AWS EMR, AWS RDS, AZURE DATALAKE, BACKEND DEVELOPER, CI/CD, ITALIAN, JENKINS, R, SCALA, SENIOR DATA ENGINEER, UNIX\n",
      "\n",
      "Cluster 7:\n",
      "AWS CLOUDFRONT, AWS ELASTIC BEANSTALK, AZURE COGNITIVE SERVICES, AZURE SYNAPSE, BACHELOR OF AEROSPACE ENGINEERING, BACHELOR OF BUSINESS ADMINISTRATION, BUSINESS ANALYST, CHATBOTS, DATA SCIENCE, EMBEDDINGS, EXPLAINABLE AI, FINE-TUNING, FORTRAN, LEAD DEVELOPER, LINUX, LSTM, MACHINE TRANSLATION, MASTER OF BUSINESS CONSULTING, ML ENGINEER, MLFLOW, MODEL OPTIMIZATION, OWNER, RAG, RNN, SENIOR DATA SCIENTIST, SIMULATION ENGINEER, SOFTWARE DEVELOPMENT, SPEECH TO TEXT, TEXT TO SPEECH\n",
      "\n",
      "Cluster 8:\n",
      "AI MODEL DEPLOYMENT, ANOMALY DETECTION, ANSIBLE, APACHE SPARK, AUDIO PROCESSING, AUTOENCODERS, AZURE DEVOPS, AZURE MACHINE LEARNING, BACHELOR OF CIVIL ENGINEERING, BACHELOR OF COMPUTER SCIENCE AND INFORMATION TECHNOLOGIES ENGINEERING, BACHELOR OF DIGITAL AND MULTIMEDIA TECHNOLOGY, BACHELOR OF MATERIALS ENGINEERING, BACHELOR OF MATHEMATICS, BACHELOR OF PHYSICS, BACHELOR OF TELECOMMUNICATIONS ENGINEERING, BEAUTIFULSOUP, BIGQUERY, BOKEH, C, CNN, COMPUTER VISION, DATA_SCIENTIST, DATA ANALYST, DATA AUGMENTATION, DATABRICKS, DATA DRIFT DETECTION, DATA VERSIONING, DEEP LEARNING, DIFFUSION MODELS, DOCTORATE IN ENGINEERING, ELASTICSEARCH, FASTAPI, FEATURE ENGINEERING, GROOVY, HYPERPARAMETER TUNING, IMAGE CLASSIFICATION, INFORMATICA, INSTANCE SEGMENTATION, JUNIOR CONSULTANT, JUPYTER, JUPYTER NOTEBOOKS, KERAS, KNOWLEDGE GRAPHS, LANGUAGE MODELS, LOG PARSING, MACHINE LEARNING, MACHINE LEARNING ENGINEER TRAINEE, MASTER OF ARTIFICIAL INTELLIGENCE, MASTER OF BIG DATA & BUSINESS ANALYTICS, MASTER OF BIG DATA ANALYTICS, MASTER OF DATA SCIENCE & INNOVATION, MASTER OF SCIENCE & TECHNOLOGY, MASTER OF STATISTICS FOR DATA SCIENCE, MATPLOTLIB, ML_ENGINEER, MODEL COMPRESSION, MODEL EXPLAINABILITY, MONGODB, MULTI-TASK LEARNING, NEURAL ARCHITECTURE SEARCH, NUMPY, OBJECT DETECTION, OCR, PROMETHEUS, RECOMMENDATION SYSTEMS, REINFORCEMENT LEARNING, RESEARCH ASSISTANT, RESEARCHER, SELF-SUPERVISED LEARNING, SEMANTIC SEGMENTATION, SENIOR MACHINE LEARNING ENGINEER, SENTIMENT ANALYSIS, SOFTWARE ENGINEER INTERN, SPECIALIST DATA SCIENTIST, SPEECH-TO-TEXT, STREAMLIT, STUDENT INTERN, TABLEAU PREP, TEXT CLASSIFICATION, TEXT PROCESSING, TEXT SUMMARIZATION, TRANSFER LEARNING, TRANSFORMERS, UNIVERSITY LECTURER, VIDEO ANALYSIS, WEIGHTS & BIASES\n",
      "\n",
      "Cluster 9:\n",
      "ACTIVE LEARNING, AI HARDWARE OPTIMIZATION, AMAZON ECS, AMAZON EKS, AMAZON S3, APACHE CASSANDRA, APACHE HADOOP, APACHE PULSAR, APACHE STORM, AWS, AWS CLOUDFORMATION, AWS CLOUDTRAIL, AWS CODEDEPLOY, AWS DYNAMODB, AWS GLUE, AWS LAMBDA, AWS REDSHIFT, AWS S3, AWS SAGEMAKER, AWS SQS, AZURE DATA FACTORY, BACHELOR OF DATA ENGINEERING, BACHELOR OF ECONOMICS AND MANAGEMENT, CATALAN, COMMERCIAL ADVISOR, CONTROLLER AND PURCHASING RESPONSIBLE, DATABASE ADMIN, DATA ENGINEER, DATA LAKE, DATA MESH, DATA WAREHOUSE, DELTA LAKE, DIRECTOR OF ANALYSIS AND INVESTMENTS, ELASTIC BEANSTALK, ELASTIC LOAD BALANCING, EQUITY AND DERIVATIVES TRADER, FACIAL RECOGNITION, HBASE, ICEBERG, IMPALA, JUNIOR COMPUTER SCIENCE ENGINEER, KYLIN, LEAD DATA ENGINEER, MASTER OF BIG DATA & ANALYTICS, MASTER OF BUSINESS INTELLIGENCE AND BIG DATA SCIENCE, MASTER OF INTELLIGENT INTERACTIVE SYSTEM, MASTER OF MANAGEMENT OF FINANCIAL INSTITUTIONS, MASTER OF STOCK AND FINANCIAL MARKETS, NEO4J, NEURAL NETWORKS, REDSHIFT, SALES DIRECTOR, SENIOR BIG DATA ENGINEER, SNOWFLAKE, SOLUTION ARCHITECT, SPARK, SYNTHETIC DATA GENERATION, TECH DIRECTOR, TIME SERIES FORECASTING, TREASURY AND CAPITAL MARKETS ANALYST\n"
     ]
    }
   ],
   "source": [
    "id_column = 'Id'\n",
    "cluster_column = 'Modularity Class'\n",
    "\n",
    "if id_column not in filtered_df.columns or cluster_column not in filtered_df.columns:\n",
    "    print(f\"Error: Ensure your DataFrame has both '{id_column}' and '{cluster_column}' columns.\")\n",
    "else:\n",
    "    # Group the DataFrame by 'Modularity Class', then get all 'Id' values for each group as a list.\n",
    "    # The .to_dict() method converts the result into a clean dictionary format.\n",
    "    clusters = filtered_df.groupby(cluster_column)[id_column].apply(list).to_dict()\n",
    "    \n",
    "    # --- 3. Print the Output ---\n",
    "    print(\"--- Nodes per Modularity Cluster ---\")\n",
    "    \n",
    "    # Sort by cluster number for organized output\n",
    "    for cluster_id, nodes in sorted(clusters.items()):\n",
    "        print(f\"\\nCluster {cluster_id}:\")\n",
    "        # Print nodes in a comma-separated list\n",
    "        print(\", \".join(nodes))"
   ]
  },
  {
   "cell_type": "code",
   "execution_count": 78,
   "id": "ffa10d53",
   "metadata": {},
   "outputs": [
    {
     "data": {
      "text/plain": [
       "54"
      ]
     },
     "execution_count": 78,
     "metadata": {},
     "output_type": "execute_result"
    }
   ],
   "source": [
    "mask = df.apply(tuple, axis=1).isin(filtered_df.apply(tuple, axis=1))\n",
    "people_df = df[~mask]\n",
    "len(people_df) "
   ]
  },
  {
   "cell_type": "markdown",
   "id": "b11dd430",
   "metadata": {},
   "source": [
    "54 --> Done correctly"
   ]
  },
  {
   "cell_type": "code",
   "execution_count": 82,
   "id": "f3b140bd",
   "metadata": {},
   "outputs": [
    {
     "name": "stderr",
     "output_type": "stream",
     "text": [
      "C:\\Users\\fbachpa\\AppData\\Local\\Temp\\ipykernel_3172\\2681187109.py:9: SettingWithCopyWarning: \n",
      "A value is trying to be set on a copy of a slice from a DataFrame.\n",
      "Try using .loc[row_indexer,col_indexer] = value instead\n",
      "\n",
      "See the caveats in the documentation: https://pandas.pydata.org/pandas-docs/stable/user_guide/indexing.html#returning-a-view-versus-a-copy\n",
      "  people_df[cluster_column]=people_df[cluster_column]+1\n",
      "C:\\Users\\fbachpa\\AppData\\Local\\Temp\\ipykernel_3172\\2681187109.py:18: FutureWarning: \n",
      "\n",
      "Passing `palette` without assigning `hue` is deprecated and will be removed in v0.14.0. Assign the `x` variable to `hue` and set `legend=False` for the same effect.\n",
      "\n",
      "  ax = sns.countplot(x=cluster_column, data=people_df, palette='viridis')\n"
     ]
    },
    {
     "data": {
      "image/png": "[encoded data removed]",
      "text/plain": [
       "<Figure size 1200x700 with 1 Axes>"
      ]
     },
     "metadata": {},
     "output_type": "display_data"
    }
   ],
   "source": [
    "import pandas as pd\n",
    "import numpy as np\n",
    "import seaborn as sns\n",
    "import matplotlib.pyplot as plt\n",
    "\n",
    "# Define the column you want to count\n",
    "cluster_column = 'Modularity Class'\n",
    "\n",
    "people_df[cluster_column]=people_df[cluster_column]+1\n",
    "\n",
    "# Set the visual style for the plot\n",
    "sns.set_style(\"whitegrid\")\n",
    "\n",
    "# Create a figure and axes for the plot to control its size\n",
    "plt.figure(figsize=(12, 7))\n",
    "\n",
    "# Use seaborn.countplot to automatically count the occurrences in the column and create a bar plot\n",
    "ax = sns.countplot(x=cluster_column, data=people_df, palette='viridis')\n",
    "\n",
    "# Add titles and labels for clarity\n",
    "ax.set_xlabel('Cluster', fontsize=12)\n",
    "ax.set_ylabel('Number of People', fontsize=12)\n",
    "\n",
    "# Improve x-tick labels to ensure all cluster numbers are shown clearly\n",
    "# This is useful if you have many clusters.\n",
    "plt.xticks(rotation=0) \n",
    "\n",
    "# Display the plot\n",
    "plt.show()\n",
    "\n"
   ]
  },
  {
   "cell_type": "markdown",
   "id": "1688fafe",
   "metadata": {},
   "source": [
    "Not used in the end"
   ]
  },
  {
   "cell_type": "markdown",
   "id": "2fbe356b",
   "metadata": {},
   "source": []
  }
 ],
 "metadata": {
  "kernelspec": {
   "display_name": "Python 3",
   "language": "python",
   "name": "python3"
  },
  "language_info": {
   "codemirror_mode": {
    "name": "ipython",
    "version": 3
   },
   "file_extension": ".py",
   "mimetype": "text/x-python",
   "name": "python",
   "nbconvert_exporter": "python",
   "pygments_lexer": "ipython3",
   "version": "3.11.9"
  }
 },
 "nbformat": 4,
 "nbformat_minor": 5
}
